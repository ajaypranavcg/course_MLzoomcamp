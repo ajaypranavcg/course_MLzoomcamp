{
 "cells": [
  {
   "cell_type": "markdown",
   "metadata": {},
   "source": [
    "Question 1\n",
    "Install Pipenv\n",
    "What's the version of pipenv you installed?\n",
    "Use --version to find out"
   ]
  },
  {
   "cell_type": "code",
   "execution_count": null,
   "metadata": {},
   "outputs": [],
   "source": [
    "pipenv --version\n",
    "pipenv, version 2021.5.29"
   ]
  },
  {
   "cell_type": "markdown",
   "metadata": {},
   "source": [
    "Question 2\n",
    "Use Pipenv to install Scikit-Learn version 1.0\n",
    "What's the first hash for scikit-learn you get in Pipfile.lock?"
   ]
  },
  {
   "cell_type": "code",
   "execution_count": null,
   "metadata": {},
   "outputs": [],
   "source": [
    "\"sha256:121f78d6564000dc5e968394f45aac87981fcaaf2be40cfcd8f07b2baa1e1829\""
   ]
  },
  {
   "cell_type": "markdown",
   "metadata": {},
   "source": [
    "Question 3\n",
    "Let's use these models!\n",
    "\n",
    "Write a script for loading these models with pickle\n",
    "Score this customer:\n",
    "{\"contract\": \"two_year\", \"tenure\": 12, \"monthlycharges\": 19.7}"
   ]
  },
  {
   "cell_type": "code",
   "execution_count": 1,
   "metadata": {},
   "outputs": [
    {
     "name": "stderr",
     "output_type": "stream",
     "text": [
      "c:\\program files\\python37\\lib\\site-packages\\sklearn\\base.py:315: UserWarning: Trying to unpickle estimator DictVectorizer from version 1.0 when using version 0.24.2. This might lead to breaking code or invalid results. Use at your own risk.\n",
      "  UserWarning)\n",
      "c:\\program files\\python37\\lib\\site-packages\\sklearn\\base.py:315: UserWarning: Trying to unpickle estimator LogisticRegression from version 1.0 when using version 0.24.2. This might lead to breaking code or invalid results. Use at your own risk.\n",
      "  UserWarning)\n"
     ]
    },
    {
     "data": {
      "text/plain": [
       "0.11549580587832914"
      ]
     },
     "execution_count": 1,
     "metadata": {},
     "output_type": "execute_result"
    }
   ],
   "source": [
    "import pickle\n",
    "\n",
    "with open('dv.bin','rb') as f_dv_in:\n",
    "    dv=pickle.load(f_dv_in)\n",
    "    \n",
    "\n",
    "with open('model1.bin','rb') as f_dv_in:\n",
    "    model=pickle.load(f_dv_in)\n",
    "\n",
    "customer={\"contract\": \"two_year\", \"tenure\": 12, \"monthlycharges\": 19.7}\n",
    "\n",
    "X=dv.transform([customer])\n",
    "\n",
    "model.predict_proba(X)[0,1]\n",
    "\n",
    "#0.11549580587832914"
   ]
  },
  {
   "cell_type": "markdown",
   "metadata": {},
   "source": [
    "Dummy Flask app"
   ]
  },
  {
   "cell_type": "code",
   "execution_count": null,
   "metadata": {},
   "outputs": [
    {
     "name": "stdout",
     "output_type": "stream",
     "text": [
      " * Serving Flask app 'ping' (lazy loading)\n",
      " * Environment: production\n",
      "   WARNING: This is a development server. Do not use it in a production deployment.\n",
      "   Use a production WSGI server instead.\n",
      " * Debug mode: on\n"
     ]
    },
    {
     "name": "stderr",
     "output_type": "stream",
     "text": [
      " * Running on all addresses.\n",
      "   WARNING: This is a development server. Do not use it in a production deployment.\n",
      " * Running on http://172.26.3.239:9090/ (Press CTRL+C to quit)\n",
      "172.26.3.239 - - [11/Oct/2021 10:39:02] \"GET / HTTP/1.1\" 404 -\n",
      "172.26.3.239 - - [11/Oct/2021 10:39:03] \"GET /favicon.ico HTTP/1.1\" 404 -\n",
      "172.26.3.239 - - [11/Oct/2021 10:39:06] \"GET /ping HTTP/1.1\" 200 -\n"
     ]
    }
   ],
   "source": [
    "from flask import Flask\n",
    "\n",
    "app=Flask('ping')\n",
    "\n",
    "@app.route('/ping', methods=['GET'])\n",
    "def ping():\n",
    "    return 'hello'\n",
    "\n",
    "if __name__==\"__main__\":\n",
    "    app.run(debug=True, host='0.0.0.0', port=9090,use_reloader=False)\n",
    "    #app.run(debug=True, host='0.0.0.0', port=9090,use_reloader=False)"
   ]
  },
  {
   "cell_type": "markdown",
   "metadata": {},
   "source": [
    "Question 4\n",
    "Now let's serve this model as a web service\n",
    "\n",
    "Install Flask and Gunicorn (or waitress, if you're on Windows)\n",
    "Write Flask code for serving the model\n",
    "Now score this customer using requests:\n",
    "url = \"YOUR_URL\"\n",
    "customer = {\"contract\": \"two_year\", \"tenure\": 1, \"monthlycharges\": 10}\n",
    "requests.post(url, json=customer).json()\n",
    "What's the probability that this customer is churning?"
   ]
  },
  {
   "cell_type": "code",
   "execution_count": null,
   "metadata": {},
   "outputs": [
    {
     "name": "stdout",
     "output_type": "stream",
     "text": [
      " * Serving Flask app 'churn' (lazy loading)\n",
      " * Environment: production\n",
      "   WARNING: This is a development server. Do not use it in a production deployment.\n",
      "   Use a production WSGI server instead.\n",
      " * Debug mode: on\n"
     ]
    },
    {
     "name": "stderr",
     "output_type": "stream",
     "text": [
      " * Running on all addresses.\n",
      "   WARNING: This is a development server. Do not use it in a production deployment.\n",
      " * Running on http://172.26.3.239:9096/ (Press CTRL+C to quit)\n",
      "172.26.3.239 - - [11/Oct/2021 10:50:06] \"POST /test HTTP/1.1\" 200 -\n"
     ]
    }
   ],
   "source": [
    "from flask import Flask, request, jsonify\n",
    "\n",
    "app=Flask('churn')\n",
    "\n",
    "@app.route('/test',methods=['POST'])\n",
    "\n",
    "def predict():\n",
    "    customer=request.get_json()\n",
    "    X = dv.transform([customer])\n",
    "    y_pred = model.predict_proba(X)[0,1]\n",
    "    churn=y_pred>=0.5\n",
    "    result={ 'churn_probability': float(y_pred), 'churn': bool(churn) }\n",
    "    return jsonify(result)\n",
    "\n",
    "if __name__==\"__main__\":\n",
    "    app.run(debug=True, host='0.0.0.0', port=9096,use_reloader=False)\n"
   ]
  },
  {
   "cell_type": "markdown",
   "metadata": {},
   "source": [
    "Save the above code in as py and run this \n",
    "waitress-serve --listen=0.0.0.0:9696 predict:app"
   ]
  },
  {
   "cell_type": "markdown",
   "metadata": {},
   "source": [
    "Run the below code after running the above line from a seperate py file"
   ]
  },
  {
   "cell_type": "code",
   "execution_count": 3,
   "metadata": {},
   "outputs": [
    {
     "data": {
      "text/plain": [
       "{'churn': True, 'churn_probability': 0.9988892771007961}"
      ]
     },
     "execution_count": 3,
     "metadata": {},
     "output_type": "execute_result"
    }
   ],
   "source": [
    "# Run this from seperate note book or python file\n",
    "import requests\n",
    "url='http://localhost:9696/predict'\n",
    "customer = {\"contract\": \"two_year\", \"tenure\": 1, \"monthlycharges\": 10}\n",
    "requests.post(url, json=customer).json()\n",
    "\n",
    "#{'churn': True, 'churn_probability': 0.9988892771007961}"
   ]
  },
  {
   "cell_type": "markdown",
   "metadata": {},
   "source": [
    "Question 5\n",
    "Now create your own Dockerfile based on the image I prepared.\n",
    "\n",
    "It should start like that:\n",
    "Alternatively, you can get this information when running docker images - it'll be in the \"IMAGE ID\" column. Submitting DIGEST (long string starting with \"sha256\") is also fine."
   ]
  },
  {
   "cell_type": "code",
   "execution_count": null,
   "metadata": {},
   "outputs": [],
   "source": [
    "sha256:02d4fd53bfaf744018213731f34ca17c9e996c23a6e1680fb1ec4ae33731aad5"
   ]
  },
  {
   "cell_type": "markdown",
   "metadata": {},
   "source": [
    "Question 6\n",
    "Let's run your docker container!\n",
    "\n",
    "After running it, score this customer:"
   ]
  },
  {
   "cell_type": "code",
   "execution_count": null,
   "metadata": {},
   "outputs": [],
   "source": [
    "url = \"http://localhost:9696/predict\"\n",
    "customer = {\"contract\": \"two_year\", \"tenure\": 12, \"monthlycharges\": 10}\n",
    "requests.post(url, json=customer).json()\n",
    "#{'churn': True, 'churn_probability': 0.7284944888182928}"
   ]
  },
  {
   "cell_type": "markdown",
   "metadata": {},
   "source": [
    "Docker file\n",
    "\n",
    "FROM agrigorev/zoomcamp-model:3.8.12-slim                                              \n",
    "RUN pip install pipenv                                                 \n",
    "WORKDIR /app                                                           \n",
    "COPY [\"Pipfile\", \"Pipfile.lock\", \"./\"]                                 \n",
    "RUN pipenv install --deploy --system                                   \n",
    "COPY [\"*.py\",\"./\"] \n",
    "RUN pip install gunicorn                                 \n",
    "EXPOSE 9696                                                            \n",
    "ENTRYPOINT [\"gunicorn\", \"--bind\", \"0.0.0.0:9696\", \"churn_serving:app\"]\n",
    "\n",
    "--Checking ingnore\n",
    "import pickle\n",
    "\n",
    "with open('app/dv.bin','rb') as f_dv_in:\n",
    "    dv=pickle.load(f_dv_in)\n",
    "    \n",
    "\n",
    "with open('app/model2.bin','rb') as f_dv_in:\n",
    "    model=pickle.load(f_dv_in)\n",
    "\n",
    "customer={\"contract\": \"two_year\", \"tenure\": 12, \"monthlycharges\": 10}\n",
    "\n",
    "X=dv.transform([customer])\n",
    "\n",
    "model.predict_proba(X)[0,1]\n",
    "#0.7284944888182928"
   ]
  }
 ],
 "metadata": {
  "kernelspec": {
   "display_name": "Python 3",
   "language": "python",
   "name": "python3"
  },
  "language_info": {
   "codemirror_mode": {
    "name": "ipython",
    "version": 3
   },
   "file_extension": ".py",
   "mimetype": "text/x-python",
   "name": "python",
   "nbconvert_exporter": "python",
   "pygments_lexer": "ipython3",
   "version": "3.7.9"
  }
 },
 "nbformat": 4,
 "nbformat_minor": 4
}
